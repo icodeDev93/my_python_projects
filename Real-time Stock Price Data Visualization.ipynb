{
 "cells": [
  {
   "cell_type": "markdown",
   "id": "d40bd917-7dc4-44fd-b2da-b6e600e440b7",
   "metadata": {},
   "source": [
    "### To create a realtime stock price data visualization application, I will be using the streamlit library in Python. In this task, we can use the streamlit library to create an interactive user interface where a user will enter the name of any company and the stock price data will be visualized as the final output.\n",
    "\n",
    "### For the task of visualizing stock prices, we can use any data visualization library in Python compatible with the streamlit framework. But to keep it simple, I’ll be using the matplotlib library in Python"
   ]
  },
  {
   "cell_type": "code",
   "execution_count": 2,
   "id": "7d94b5c4-2f39-4eab-a25f-799909dc52bc",
   "metadata": {},
   "outputs": [],
   "source": [
    "import pandas as pd\n",
    "import pandas_datareader.data as web\n",
    "import matplotlib.pyplot as plt\n",
    "import datetime\n",
    "from datetime import date, timedelta"
   ]
  },
  {
   "cell_type": "code",
   "execution_count": 3,
   "id": "acf0fc01-6f9f-496e-8b08-ec252c0b6c5d",
   "metadata": {},
   "outputs": [],
   "source": [
    "today = date.today()\n",
    "\n",
    "d1 = today.strftime(\"%Y/%m/%d\")\n",
    "end_date = d1\n",
    "d2 = date.today() - timedelta(days=360)\n",
    "d2 = d2.strftime(\"%Y/%m/%d\")\n",
    "start_date = d2"
   ]
  },
  {
   "cell_type": "code",
   "execution_count": 4,
   "id": "0ff62c6d-7673-436e-9e54-8217c743c36b",
   "metadata": {},
   "outputs": [],
   "source": [
    "import streamlit as st"
   ]
  },
  {
   "cell_type": "code",
   "execution_count": null,
   "id": "0971c710-c660-40f4-843a-b2d71202f777",
   "metadata": {},
   "outputs": [],
   "source": [
    "st.title(\"Real-time Stock Price Data\")\n",
    "a = st.text_input(\"Enter Any Company >>:\")\n",
    "data = web.DataReader(name=a, data_source='yahoo', start=start_date, end=end_date)"
   ]
  },
  {
   "cell_type": "code",
   "execution_count": null,
   "id": "1d1f82e6-27b9-48d2-9dfe-59fc4da4a190",
   "metadata": {},
   "outputs": [],
   "source": [
    "fig, ax = plt.subplots() \n",
    "ax = data[\"Close\"].plot(figsize=(12, 8), title=a+\" Stock Prices\", fontsize=20, label=\"Close Price\")\n",
    "plt.legend()\n",
    "plt.grid()\n",
    "st.pyplot(fig)"
   ]
  }
 ],
 "metadata": {
  "kernelspec": {
   "display_name": "Python 3 (ipykernel)",
   "language": "python",
   "name": "python3"
  },
  "language_info": {
   "codemirror_mode": {
    "name": "ipython",
    "version": 3
   },
   "file_extension": ".py",
   "mimetype": "text/x-python",
   "name": "python",
   "nbconvert_exporter": "python",
   "pygments_lexer": "ipython3",
   "version": "3.11.2"
  }
 },
 "nbformat": 4,
 "nbformat_minor": 5
}
