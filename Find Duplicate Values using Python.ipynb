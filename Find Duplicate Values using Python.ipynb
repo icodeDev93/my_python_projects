{
 "cells": [
  {
   "cell_type": "markdown",
   "id": "60c0d677-018a-42a8-a476-b0ab1685a3dc",
   "metadata": {},
   "source": [
    "### Finding duplicate values from an array or any other data structure is one of the popular coding interview questions that you can get in any coding interview. The Python programming language provides many inbuilt functions to find the duplicate values, but in a coding interview, you should use an algorithm instead of an inbuilt function. So if you want to learn how to find duplicate values, this article is for you. In this article, I will take you through how to write a program to find duplicate values using Python"
   ]
  },
  {
   "cell_type": "code",
   "execution_count": 2,
   "id": "6673cb43-5164-42cd-a5f6-74e121242ab7",
   "metadata": {},
   "outputs": [
    {
     "name": "stdout",
     "output_type": "stream",
     "text": [
      "['Nana', 'Aku']\n"
     ]
    }
   ],
   "source": [
    "#To write a program to find duplicate values using Python, I will define a Python function that will take a list of values in any data type. \n",
    "#So below is a Python function for finding duplicate values in a list:\n",
    "\n",
    "\n",
    "def find_duplicates(x):\n",
    "    length = len(x)\n",
    "    duplicates = []\n",
    "    for i in range(length):\n",
    "        n = i + 1\n",
    "        for a in range(n, length):\n",
    "            if x[i] == x[a] and x[i] not in duplicates:\n",
    "                duplicates.append(x[i])\n",
    "    return duplicates\n",
    "names = [\"Nana\", \"Aku\", \"Eben\", \"Dave\", \n",
    "         \"Aku\", \"Tabi\", \"Nana\"]\n",
    "print(find_duplicates(names))"
   ]
  },
  {
   "cell_type": "raw",
   "id": "6cddc30f-0541-49fc-84c2-8695d7bd0483",
   "metadata": {},
   "source": [
    "Below is how the above function works:\n",
    "\n",
    "The above function takes a list as an input;\n",
    "Then it calculates the length of the list;\n",
    "Then it looks for the same value in the list that is found on the first index;\n",
    "If it finds multiple values, it appends that value in another list of duplicate values;\n",
    "This process continues till the loop reaches the final index of the list. In the end, it returns the list of duplicate values. lues. "
   ]
  },
  {
   "cell_type": "code",
   "execution_count": null,
   "id": "0ac658cd-74d2-4518-aacf-f4bf10bdd1a0",
   "metadata": {},
   "outputs": [],
   "source": []
  }
 ],
 "metadata": {
  "kernelspec": {
   "display_name": "Python 3 (ipykernel)",
   "language": "python",
   "name": "python3"
  },
  "language_info": {
   "codemirror_mode": {
    "name": "ipython",
    "version": 3
   },
   "file_extension": ".py",
   "mimetype": "text/x-python",
   "name": "python",
   "nbconvert_exporter": "python",
   "pygments_lexer": "ipython3",
   "version": "3.11.2"
  }
 },
 "nbformat": 4,
 "nbformat_minor": 5
}
