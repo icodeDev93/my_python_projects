{
 "cells": [
  {
   "cell_type": "markdown",
   "id": "4e93beba-d701-4202-91b6-11ace0693a06",
   "metadata": {},
   "source": [
    "### End-to-end encryption is a communication system that ensures that only users involved in a particular communication can only read and understand messages. It is done by many applications to protect the data of their users. Some of the most popular applications that are end-to-end encrypted are:\n",
    "\n",
    "WhatsApp,\n",
    "Viber,\n",
    "Line,\n",
    "Telegram, \n",
    "KakaoTalk,\n",
    "Signal and\n",
    "Dust.\n",
    "These are just a few of the popular apps that are end-to-end encrypted for their users. \n",
    "So, securing user data using end-to-end encryption is nothing new, it has been used by many applications for a long time. \n",
    "\n",
    "There is no defined way of end-to-end encryption that you can use to secure user data. \n",
    "All companies have their own defined algorithm to keep their applications end-to-end encrypted. This is a python code on how to perform end-to-end encryption using the Python programming language."
   ]
  },
  {
   "cell_type": "code",
   "execution_count": 1,
   "id": "5f5ba6f7-0393-4b54-9153-c728ad487971",
   "metadata": {},
   "outputs": [],
   "source": [
    "# two Python functions to determine if the length of a message is odd or even\n",
    "\n",
    "def is_even(number):\n",
    "    return number % 2 == 0\n",
    "\n",
    "def get_even_letters(message):\n",
    "    even_letters = []\n",
    "    for counter in range(0, len(message)):\n",
    "        if is_even(counter):\n",
    "            even_letters.append(message[counter])\n",
    "    return even_letters\n",
    "\n",
    "def get_odd_letters(message):\n",
    "    odd_letters = []\n",
    "    for counter in range(0, len(message)):\n",
    "        if not is_even(counter):\n",
    "            odd_letters.append(message[counter])\n",
    "    return odd_letters"
   ]
  },
  {
   "cell_type": "code",
   "execution_count": 2,
   "id": "57635d0d-435d-440d-9137-0dd1cc174c95",
   "metadata": {},
   "outputs": [],
   "source": [
    "# Python function to swap the letters of the message between them\n",
    "def swap_letters(message):\n",
    "    letter_list = []\n",
    "    if not is_even(len(message)):\n",
    "        message = message + 'x'\n",
    "    even_letters = get_even_letters(message)\n",
    "    odd_letters = get_odd_letters(message)\n",
    "    for counter in range(0, int(len(message)/2)):\n",
    "        letter_list.append(odd_letters[counter])\n",
    "        letter_list.append(even_letters[counter])\n",
    "    new_message = ''.join(letter_list)\n",
    "    return new_message"
   ]
  },
  {
   "cell_type": "code",
   "execution_count": null,
   "id": "45c4f3d4-47cd-42b5-98e4-7a88828498bb",
   "metadata": {},
   "outputs": [],
   "source": [
    "# test this end-to-end encryption system by creating an end-to-end application using the streamlit library\n",
    "import streamlit as st\n",
    "st.title(\"End-to-End Encryption\")\n",
    "user = st.text_input(\"Enter a Message\")\n",
    "st.write(swap_letters(user))"
   ]
  }
 ],
 "metadata": {
  "kernelspec": {
   "display_name": "Python 3 (ipykernel)",
   "language": "python",
   "name": "python3"
  },
  "language_info": {
   "codemirror_mode": {
    "name": "ipython",
    "version": 3
   },
   "file_extension": ".py",
   "mimetype": "text/x-python",
   "name": "python",
   "nbconvert_exporter": "python",
   "pygments_lexer": "ipython3",
   "version": "3.11.2"
  }
 },
 "nbformat": 4,
 "nbformat_minor": 5
}
