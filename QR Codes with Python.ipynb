{
 "cells": [
  {
   "cell_type": "markdown",
   "id": "545b98f7-8c13-4d17-8a7c-cd7237004c84",
   "metadata": {},
   "source": [
    "## QR is short for Quick Response, and they are named so because they can be read quickly by a cell phone. They are used to take information from transitory media and put it on your cell phone. In this article, I will walk you through a tutorial on how to generate QR codes with Python. It contains a grid of black squares on a white background, which can be read by any imaging device such as a camera, and processed to extract the required data from the patterns that are present in the horizontal components of the image."
   ]
  },
  {
   "cell_type": "code",
   "execution_count": 3,
   "id": "228b34db-ba82-430c-bdbf-7d0d70000649",
   "metadata": {},
   "outputs": [],
   "source": [
    "import pyqrcode \n",
    "from pyqrcode import QRCode \n",
    "  \n",
    "# String which represent the QR code \n",
    "s = \"https://www.youtube.com/watch?v=neBZ6huolkg\"\n",
    "  \n",
    "# Generate QR code \n",
    "url = pyqrcode.create(s) \n",
    "\n",
    "# Create and save the png file 'qr.png'\n",
    "url.svg(\"myyoutube.svg\", scale=8)"
   ]
  },
  {
   "cell_type": "code",
   "execution_count": null,
   "id": "4cf01d84-4205-4fba-9660-9d36c09badff",
   "metadata": {},
   "outputs": [],
   "source": []
  }
 ],
 "metadata": {
  "kernelspec": {
   "display_name": "Python 3 (ipykernel)",
   "language": "python",
   "name": "python3"
  },
  "language_info": {
   "codemirror_mode": {
    "name": "ipython",
    "version": 3
   },
   "file_extension": ".py",
   "mimetype": "text/x-python",
   "name": "python",
   "nbconvert_exporter": "python",
   "pygments_lexer": "ipython3",
   "version": "3.11.2"
  }
 },
 "nbformat": 4,
 "nbformat_minor": 5
}
